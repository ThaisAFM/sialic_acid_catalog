{
  "nbformat": 4,
  "nbformat_minor": 0,
  "metadata": {
    "colab": {
      "provenance": []
    },
    "kernelspec": {
      "name": "python3",
      "display_name": "Python 3"
    },
    "language_info": {
      "name": "python"
    }
  },
  "cells": [
    {
      "cell_type": "markdown",
      "source": [
        "## Treatment for dbCAN-PUL sequences\n",
        "\n",
        "dbCAN-PUL is a database of experimentally characterized clusters, so it was necessary to unconcatenate the fasta sequences into files for each gene"
      ],
      "metadata": {
        "id": "PpFZJcxEXBzg"
      }
    },
    {
      "cell_type": "code",
      "execution_count": null,
      "metadata": {
        "id": "pNRn3HN3XABS"
      },
      "outputs": [],
      "source": [
        "# Creating a function to separate the file into one file per sequence\n",
        "\n",
        "def unconcatenate(file):\n",
        "  with open(file, 'r') as arquivo:  # opening the file in read-only mode\n",
        "    sequence = ''\n",
        "    sequence_name = ''\n",
        "    count = 1\n",
        "\n",
        "    for line in file:\n",
        "      line = lie.strip() # excludes spaces, line breaks and tabs\n",
        "      if line.startswith('>'):\n",
        "        # save the previous sequence if it exists\n",
        "        if sequence:\n",
        "          # clear invalid characters from the file name\n",
        "          file_name = sequence_name.replace('.','_')\n",
        "          with open(f'{file_name}.fasta', 'w') as output_file:\n",
        "            output_file.write(f'>{sequence_name}\\n{sequence}\\n')\n",
        "          sequence = ''\n",
        "          count += 1\n",
        "\n",
        "        # update the name of the new sequence\n",
        "        sequence_name = line[1:]\n",
        "      else:\n",
        "        sequence += line\n",
        "\n",
        "      # record the last sequence\n",
        "      if sequence:\n",
        "        file_name = sequence_name.replace('.','_')\n",
        "        with open(f'{file_name}.fasta', 'w') as output_file:\n",
        "          output_file.write(f'>{file_name}\\n{sequence}\\n')"
      ]
    }
  ]
}