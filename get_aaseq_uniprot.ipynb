{
  "nbformat": 4,
  "nbformat_minor": 0,
  "metadata": {
    "colab": {
      "provenance": []
    },
    "kernelspec": {
      "name": "python3",
      "display_name": "Python 3"
    },
    "language_info": {
      "name": "python"
    }
  },
  "cells": [
    {
      "cell_type": "markdown",
      "source": [
        "## Use of Uniprot API to retrieve protein sequences\n",
        "\n",
        "The API is built with Python.\n",
        "\n",
        "The sequences of the products of interest were all downloaded in the same code.\n",
        "\n",
        "Below is the code, formatted for submitting a job on a SLURM system."
      ],
      "metadata": {
        "id": "gbB303SFmeSy"
      }
    },
    {
      "cell_type": "code",
      "execution_count": null,
      "metadata": {
        "id": "GSMcyscNlp25"
      },
      "outputs": [],
      "source": [
        "#!/bin/bash\n",
        "#SBATCH --job-name=job_name\n",
        "#SBATCH --partition=SP2\n",
        "#SBATCH --ntasks=1\n",
        "#SBATCH --cpus-per-task=20\n",
        "#SBATCH --time=24:00:00\n",
        "#SBATCH --mem-per-cpu=24042\n",
        "#SBATCH --mail-type=BEGING,END\n",
        "#SBATCH --mail-user= e-mail\n",
        "\n",
        "module load Miniconda/3\n",
        "\n",
        "python - <<EOF\n",
        "\n",
        "import sys\n",
        "import json\n",
        "import requests\n",
        "from prettytable import PrettyTable\n",
        "\n",
        "#Documentation: https://www.uniprot.org/help/api\n",
        "WEBSITE_API = \"https://rest.uniprot.org/\"\n",
        "\n",
        "def get_aaseq(gene):\n",
        "  r = requests.get(f'{WEBSITE_API}/uniprotkb/stream?query={gene} AND (taxonomy_id:2)&format=fasta')\n",
        "  with open(f\"{gene}.fasta\", \"w\") as arquivo:\n",
        "      arquivo.write(r.text)\n",
        "\n",
        "\n",
        "input_list = ['gene1', 'gene2', ...]\n",
        "\n",
        "# my_input_list = ['CpsK', 'Alpha-2,3-N-acetylneuraminyltransferase', 'KpsM', 'KpsT',\n",
        "             # 'KpsC', 'KpsD', 'KpsE', 'KpsF', 'KpsS', 'Lic3A', 'Lic3B', 'NeuS',\n",
        "             # 'N-acylneuraminate cytidylyltransferase', 'NeuB', 'NeuC', 'NeuD',\n",
        "             # 'NeuE', 'NeuO', 'CMP-N-acetylneuraminate-beta-galactosamide-alpha-2,3-sialyltransferase',\n",
        "             # 'NagA', 'NagB', 'N-acetylneuraminate-lyase', 'Putative N-acetylmannosamine-6-phosphate-2-epimerase'\n",
        "             # 'nanK', 'nanQ', 'N-acylglucosamine-2-epimerase', 'NanU', 'NanO','NanC','NanT', 'NanM', 'OmpC',\n",
        "             # 'OmpF', 'SatA', 'SatB', 'SatC', 'SatD', 'SiaP',\n",
        "             # 'SiaQ', 'SiaT', 'SiaM', 'Sialate O-acetylesterase', 'nagZ', 'NanH',\n",
        "             # 'NanB', 'NanR']\n",
        "\n",
        "for i in input_list:\n",
        "  get_aaseq(i)\n",
        "\n",
        "EOF"
      ]
    }
  ]
}