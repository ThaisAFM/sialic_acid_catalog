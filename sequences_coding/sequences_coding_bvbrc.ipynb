{
  "nbformat": 4,
  "nbformat_minor": 0,
  "metadata": {
    "colab": {
      "provenance": []
    },
    "kernelspec": {
      "name": "python3",
      "display_name": "Python 3"
    },
    "language_info": {
      "name": "python"
    }
  },
  "cells": [
    {
      "cell_type": "markdown",
      "source": [
        "# Sequence coding\n",
        "\n",
        "This notebook will generate a dataframe that correlate the original identifiers of each sequence with new codes in the 'gene_X_database' format.\n",
        "\n",
        "Ensure that you update any instance of 'bvbrc' in the code to reflect the database from which the sequences originated.\n",
        "\n",
        "The original sequence headers will then be replaced by the new codes in another script."
      ],
      "metadata": {
        "id": "JCyzvVYQRQEM"
      }
    },
    {
      "cell_type": "code",
      "source": [
        "!pip install biopython"
      ],
      "metadata": {
        "colab": {
          "base_uri": "https://localhost:8080/"
        },
        "id": "1AR1kpuVCxp7",
        "outputId": "fc8a9026-5d24-4600-dcdb-768ba688ccc7"
      },
      "execution_count": 1,
      "outputs": [
        {
          "output_type": "stream",
          "name": "stdout",
          "text": [
            "Collecting biopython\n",
            "  Downloading biopython-1.85-cp311-cp311-manylinux_2_17_x86_64.manylinux2014_x86_64.whl.metadata (13 kB)\n",
            "Requirement already satisfied: numpy in /usr/local/lib/python3.11/dist-packages (from biopython) (1.26.4)\n",
            "Downloading biopython-1.85-cp311-cp311-manylinux_2_17_x86_64.manylinux2014_x86_64.whl (3.3 MB)\n",
            "\u001b[2K   \u001b[90m━━━━━━━━━━━━━━━━━━━━━━━━━━━━━━━━━━━━━━━━\u001b[0m \u001b[32m3.3/3.3 MB\u001b[0m \u001b[31m24.6 MB/s\u001b[0m eta \u001b[36m0:00:00\u001b[0m\n",
            "\u001b[?25hInstalling collected packages: biopython\n",
            "Successfully installed biopython-1.85\n"
          ]
        }
      ]
    },
    {
      "cell_type": "code",
      "source": [
        "from google.colab import files\n",
        "import os\n",
        "import pandas as pd\n",
        "from Bio import SeqIO\n",
        "from Bio.SeqRecord import SeqRecord"
      ],
      "metadata": {
        "id": "5-HecjklhcjQ"
      },
      "execution_count": 2,
      "outputs": []
    },
    {
      "cell_type": "code",
      "source": [
        "# In the local repository, compress the folder of the database of interest with the respective sequences\n",
        "# tar czvf new_folder_name.tar.gz folder_name"
      ],
      "metadata": {
        "id": "86F83-NkV-Ro"
      },
      "execution_count": 3,
      "outputs": []
    },
    {
      "cell_type": "code",
      "source": [
        "# Upload the compressed folder with the fasta sequences\n",
        "\n",
        "uploaded = files.upload()"
      ],
      "metadata": {
        "colab": {
          "base_uri": "https://localhost:8080/",
          "height": 73
        },
        "id": "hpESH9XAhd3h",
        "outputId": "ca663c6d-458a-43eb-cc0b-284e1b902547"
      },
      "execution_count": 4,
      "outputs": [
        {
          "output_type": "display_data",
          "data": {
            "text/plain": [
              "<IPython.core.display.HTML object>"
            ],
            "text/html": [
              "\n",
              "     <input type=\"file\" id=\"files-6bbd2839-1c0a-463b-8444-da40e073bacd\" name=\"files[]\" multiple disabled\n",
              "        style=\"border:none\" />\n",
              "     <output id=\"result-6bbd2839-1c0a-463b-8444-da40e073bacd\">\n",
              "      Upload widget is only available when the cell has been executed in the\n",
              "      current browser session. Please rerun this cell to enable.\n",
              "      </output>\n",
              "      <script>// Copyright 2017 Google LLC\n",
              "//\n",
              "// Licensed under the Apache License, Version 2.0 (the \"License\");\n",
              "// you may not use this file except in compliance with the License.\n",
              "// You may obtain a copy of the License at\n",
              "//\n",
              "//      http://www.apache.org/licenses/LICENSE-2.0\n",
              "//\n",
              "// Unless required by applicable law or agreed to in writing, software\n",
              "// distributed under the License is distributed on an \"AS IS\" BASIS,\n",
              "// WITHOUT WARRANTIES OR CONDITIONS OF ANY KIND, either express or implied.\n",
              "// See the License for the specific language governing permissions and\n",
              "// limitations under the License.\n",
              "\n",
              "/**\n",
              " * @fileoverview Helpers for google.colab Python module.\n",
              " */\n",
              "(function(scope) {\n",
              "function span(text, styleAttributes = {}) {\n",
              "  const element = document.createElement('span');\n",
              "  element.textContent = text;\n",
              "  for (const key of Object.keys(styleAttributes)) {\n",
              "    element.style[key] = styleAttributes[key];\n",
              "  }\n",
              "  return element;\n",
              "}\n",
              "\n",
              "// Max number of bytes which will be uploaded at a time.\n",
              "const MAX_PAYLOAD_SIZE = 100 * 1024;\n",
              "\n",
              "function _uploadFiles(inputId, outputId) {\n",
              "  const steps = uploadFilesStep(inputId, outputId);\n",
              "  const outputElement = document.getElementById(outputId);\n",
              "  // Cache steps on the outputElement to make it available for the next call\n",
              "  // to uploadFilesContinue from Python.\n",
              "  outputElement.steps = steps;\n",
              "\n",
              "  return _uploadFilesContinue(outputId);\n",
              "}\n",
              "\n",
              "// This is roughly an async generator (not supported in the browser yet),\n",
              "// where there are multiple asynchronous steps and the Python side is going\n",
              "// to poll for completion of each step.\n",
              "// This uses a Promise to block the python side on completion of each step,\n",
              "// then passes the result of the previous step as the input to the next step.\n",
              "function _uploadFilesContinue(outputId) {\n",
              "  const outputElement = document.getElementById(outputId);\n",
              "  const steps = outputElement.steps;\n",
              "\n",
              "  const next = steps.next(outputElement.lastPromiseValue);\n",
              "  return Promise.resolve(next.value.promise).then((value) => {\n",
              "    // Cache the last promise value to make it available to the next\n",
              "    // step of the generator.\n",
              "    outputElement.lastPromiseValue = value;\n",
              "    return next.value.response;\n",
              "  });\n",
              "}\n",
              "\n",
              "/**\n",
              " * Generator function which is called between each async step of the upload\n",
              " * process.\n",
              " * @param {string} inputId Element ID of the input file picker element.\n",
              " * @param {string} outputId Element ID of the output display.\n",
              " * @return {!Iterable<!Object>} Iterable of next steps.\n",
              " */\n",
              "function* uploadFilesStep(inputId, outputId) {\n",
              "  const inputElement = document.getElementById(inputId);\n",
              "  inputElement.disabled = false;\n",
              "\n",
              "  const outputElement = document.getElementById(outputId);\n",
              "  outputElement.innerHTML = '';\n",
              "\n",
              "  const pickedPromise = new Promise((resolve) => {\n",
              "    inputElement.addEventListener('change', (e) => {\n",
              "      resolve(e.target.files);\n",
              "    });\n",
              "  });\n",
              "\n",
              "  const cancel = document.createElement('button');\n",
              "  inputElement.parentElement.appendChild(cancel);\n",
              "  cancel.textContent = 'Cancel upload';\n",
              "  const cancelPromise = new Promise((resolve) => {\n",
              "    cancel.onclick = () => {\n",
              "      resolve(null);\n",
              "    };\n",
              "  });\n",
              "\n",
              "  // Wait for the user to pick the files.\n",
              "  const files = yield {\n",
              "    promise: Promise.race([pickedPromise, cancelPromise]),\n",
              "    response: {\n",
              "      action: 'starting',\n",
              "    }\n",
              "  };\n",
              "\n",
              "  cancel.remove();\n",
              "\n",
              "  // Disable the input element since further picks are not allowed.\n",
              "  inputElement.disabled = true;\n",
              "\n",
              "  if (!files) {\n",
              "    return {\n",
              "      response: {\n",
              "        action: 'complete',\n",
              "      }\n",
              "    };\n",
              "  }\n",
              "\n",
              "  for (const file of files) {\n",
              "    const li = document.createElement('li');\n",
              "    li.append(span(file.name, {fontWeight: 'bold'}));\n",
              "    li.append(span(\n",
              "        `(${file.type || 'n/a'}) - ${file.size} bytes, ` +\n",
              "        `last modified: ${\n",
              "            file.lastModifiedDate ? file.lastModifiedDate.toLocaleDateString() :\n",
              "                                    'n/a'} - `));\n",
              "    const percent = span('0% done');\n",
              "    li.appendChild(percent);\n",
              "\n",
              "    outputElement.appendChild(li);\n",
              "\n",
              "    const fileDataPromise = new Promise((resolve) => {\n",
              "      const reader = new FileReader();\n",
              "      reader.onload = (e) => {\n",
              "        resolve(e.target.result);\n",
              "      };\n",
              "      reader.readAsArrayBuffer(file);\n",
              "    });\n",
              "    // Wait for the data to be ready.\n",
              "    let fileData = yield {\n",
              "      promise: fileDataPromise,\n",
              "      response: {\n",
              "        action: 'continue',\n",
              "      }\n",
              "    };\n",
              "\n",
              "    // Use a chunked sending to avoid message size limits. See b/62115660.\n",
              "    let position = 0;\n",
              "    do {\n",
              "      const length = Math.min(fileData.byteLength - position, MAX_PAYLOAD_SIZE);\n",
              "      const chunk = new Uint8Array(fileData, position, length);\n",
              "      position += length;\n",
              "\n",
              "      const base64 = btoa(String.fromCharCode.apply(null, chunk));\n",
              "      yield {\n",
              "        response: {\n",
              "          action: 'append',\n",
              "          file: file.name,\n",
              "          data: base64,\n",
              "        },\n",
              "      };\n",
              "\n",
              "      let percentDone = fileData.byteLength === 0 ?\n",
              "          100 :\n",
              "          Math.round((position / fileData.byteLength) * 100);\n",
              "      percent.textContent = `${percentDone}% done`;\n",
              "\n",
              "    } while (position < fileData.byteLength);\n",
              "  }\n",
              "\n",
              "  // All done.\n",
              "  yield {\n",
              "    response: {\n",
              "      action: 'complete',\n",
              "    }\n",
              "  };\n",
              "}\n",
              "\n",
              "scope.google = scope.google || {};\n",
              "scope.google.colab = scope.google.colab || {};\n",
              "scope.google.colab._files = {\n",
              "  _uploadFiles,\n",
              "  _uploadFilesContinue,\n",
              "};\n",
              "})(self);\n",
              "</script> "
            ]
          },
          "metadata": {}
        },
        {
          "output_type": "stream",
          "name": "stdout",
          "text": [
            "Saving bvbrc.tar.gz to bvbrc.tar.gz\n"
          ]
        }
      ]
    },
    {
      "cell_type": "code",
      "source": [
        "# Unzip folder\n",
        "\n",
        "!tar -xvzf bvbrc.tar.gz"
      ],
      "metadata": {
        "colab": {
          "base_uri": "https://localhost:8080/"
        },
        "id": "Z51ZMhLHcwNJ",
        "outputId": "a738f658-d21c-461e-ae76-69ef46502240"
      },
      "execution_count": 5,
      "outputs": [
        {
          "output_type": "stream",
          "name": "stdout",
          "text": [
            "bvbrc/\n",
            "bvbrc/siaM_bv.fasta\n",
            "bvbrc/nanB_bv.fasta\n",
            "bvbrc/kpsC_bvbrc.fasta\n",
            "bvbrc/nanT_bv.fasta\n",
            "bvbrc/nane_bv.fasta\n",
            "bvbrc/kpsM_bvbrc.fasta\n",
            "bvbrc/siaP_bv.fasta\n",
            "bvbrc/nanM_bv.fasta\n",
            "bvbrc/nanR_bv.fasta\n",
            "bvbrc/nanU_bv.fasta\n",
            "bvbrc/neuE_bv.fasta\n",
            "bvbrc/cpsK_bvbrc.fasta\n",
            "bvbrc/neuD_bv.fasta\n",
            "bvbrc/kpsD_bv.fasta\n",
            "bvbrc/SIAE_bv.fasta\n",
            "bvbrc/neuA_bv.fasta\n",
            "bvbrc/neuB_bv.fasta\n",
            "bvbrc/nagA_bv.fasta\n",
            "bvbrc/neuC_bv.fasta\n",
            "bvbrc/satA_bv.fasta\n",
            "bvbrc/lst_bv.fasta\n",
            "bvbrc/nanH_bv.fasta\n",
            "bvbrc/kpsT_bvbrc.fasta\n",
            "bvbrc/nanC_bv.fasta\n",
            "bvbrc/neuS_bv.fasta\n",
            "bvbrc/nagZ_bv.fasta\n",
            "bvbrc/ompF_bv.fasta\n",
            "bvbrc/nanA_bv.fasta\n",
            "bvbrc/nagB_bv.fasta\n",
            "bvbrc/satC_bv.fasta\n",
            "bvbrc/siaT_bv.fasta\n",
            "bvbrc/lic3A_bv.fasta\n",
            "bvbrc/satB_bv.fasta\n",
            "bvbrc/nanE_bv.fasta\n",
            "bvbrc/kpsE_bv.fasta\n",
            "bvbrc/ompC_bv.fasta\n",
            "bvbrc/kpsF_bv.fasta\n",
            "bvbrc/neuO_bv.fasta\n",
            "bvbrc/kpsS_bv.fasta\n",
            "bvbrc/satD_bv.fasta\n",
            "bvbrc/siaQ_bv.fasta\n",
            "bvbrc/nanK_bv.fasta\n",
            "bvbrc/nanQ_bv.fasta\n"
          ]
        }
      ]
    },
    {
      "cell_type": "markdown",
      "source": [
        "1. Generating the dataframe with new codes"
      ],
      "metadata": {
        "id": "h0r2xcveWJOd"
      }
    },
    {
      "cell_type": "code",
      "source": [
        "def sequence_coding(fasta_file, input_filename):\n",
        "    \"\"\"\n",
        "    Process a FASTA file to generate a DataFrame containing headers and internal gene codes.\n",
        "\n",
        "    Args:\n",
        "        fasta_file (str): Path to the input FASTA file.\n",
        "        input_filename (str): Name of the input file (used for generating codes).\n",
        "\n",
        "    Returns:\n",
        "        None: Saves the resulting DataFrame to a CSV file.\n",
        "    \"\"\"\n",
        "\n",
        "    # List to store the headers\n",
        "    headers = []\n",
        "\n",
        "    # Read the FASTA file and extract the headers\n",
        "    for record in SeqIO.parse(fasta_file, \"fasta\"):\n",
        "        headers.append(record.id)\n",
        "\n",
        "    # Create a DataFrame with the headers\n",
        "    df = pd.DataFrame(headers, columns=['Header'])\n",
        "\n",
        "    # Add a column with gene codes in the format gene_X_UNIP\n",
        "    df['Gene_Code'] = [\n",
        "        f\"{input_filename.split('_')[0]}_\" + str(i + 1) + f\"_{input_filename.split('_')[1].replace('.fasta', '')}\"\n",
        "        for i in range(len(headers))\n",
        "    ]\n",
        "\n",
        "    # Save the DataFrame to a CSV file with the input filename in the output name\n",
        "    output_filename = f\"{input_filename.split('.')[0]}_codes_df.csv\"\n",
        "    df.to_csv(output_filename, index=False)"
      ],
      "metadata": {
        "id": "BdjqSI0HhgDg"
      },
      "execution_count": 6,
      "outputs": []
    },
    {
      "cell_type": "code",
      "source": [
        "# Applying the function to all fasta files in the directory of interest\n",
        "\n",
        "# Directory where the files are located\n",
        "directory = 'bvbrc'  # Adapt according to the directory name\n",
        "\n",
        "# List all files in the directory\n",
        "files = os.listdir(directory)\n",
        "\n",
        "# Filter the list to include only FASTA files\n",
        "fasta_files = [f for f in files if f.endswith('.fasta')]\n",
        "\n",
        "# Iterate over the FASTA files\n",
        "for fasta_file in fasta_files:\n",
        "    full_path = os.path.join(directory, fasta_file)\n",
        "    sequence_coding(full_path, fasta_file)"
      ],
      "metadata": {
        "id": "D3JUzlh5jAXR"
      },
      "execution_count": 7,
      "outputs": []
    },
    {
      "cell_type": "code",
      "source": [
        "# Organizing files\n",
        "\n",
        "!mkdir bvbrc_code_dataframes\n",
        "!mv *.csv bvbrc_code_dataframes/"
      ],
      "metadata": {
        "id": "1NEQHg0jY8pm"
      },
      "execution_count": 8,
      "outputs": []
    },
    {
      "cell_type": "code",
      "source": [
        "# Concatenating the dataframes\n",
        "\n",
        "csv_files = [file for file in os.listdir('bvbrc_code_dataframes') if file.endswith('.csv')]\n",
        "\n",
        "dataframes = []\n",
        "\n",
        "for file in csv_files:\n",
        "  file_path = os.path.join('bvbrc_code_dataframes', file)\n",
        "  df = pd.read_csv(file_path)\n",
        "  dataframes.append(df)\n",
        "\n",
        "refseq_merged_df = pd.concat(dataframes, ignore_index=True)\n",
        "\n",
        "# Saving the dataframe\n",
        "refseq_merged_df.to_csv('bvbrc_merged_df.csv', index=False)"
      ],
      "metadata": {
        "id": "iQZCENjEYTHt"
      },
      "execution_count": 9,
      "outputs": []
    },
    {
      "cell_type": "code",
      "source": [
        "# Organizing and compressing files\n",
        "\n",
        "!mv bvbrc_merged_df.csv bvbrc_code_dataframes/\n",
        "!tar -czvf bvbrc_code_dataframes.tar.gz bvbrc_code_dataframes/"
      ],
      "metadata": {
        "colab": {
          "base_uri": "https://localhost:8080/"
        },
        "id": "jF0_WXusbTfQ",
        "outputId": "f26683a8-3892-4a7e-8cbf-2e73c07f4343"
      },
      "execution_count": 10,
      "outputs": [
        {
          "output_type": "stream",
          "name": "stdout",
          "text": [
            "bvbrc_code_dataframes/\n",
            "bvbrc_code_dataframes/nanC_bv_codes_df.csv\n",
            "bvbrc_code_dataframes/nanT_bv_codes_df.csv\n",
            "bvbrc_code_dataframes/satD_bv_codes_df.csv\n",
            "bvbrc_code_dataframes/kpsC_bvbrc_codes_df.csv\n",
            "bvbrc_code_dataframes/satB_bv_codes_df.csv\n",
            "bvbrc_code_dataframes/kpsD_bv_codes_df.csv\n",
            "bvbrc_code_dataframes/neuD_bv_codes_df.csv\n",
            "bvbrc_code_dataframes/neuA_bv_codes_df.csv\n",
            "bvbrc_code_dataframes/nane_bv_codes_df.csv\n",
            "bvbrc_code_dataframes/nagB_bv_codes_df.csv\n",
            "bvbrc_code_dataframes/siaP_bv_codes_df.csv\n",
            "bvbrc_code_dataframes/nanQ_bv_codes_df.csv\n",
            "bvbrc_code_dataframes/kpsT_bvbrc_codes_df.csv\n",
            "bvbrc_code_dataframes/nanH_bv_codes_df.csv\n",
            "bvbrc_code_dataframes/satA_bv_codes_df.csv\n",
            "bvbrc_code_dataframes/bvbrc_merged_df.csv\n",
            "bvbrc_code_dataframes/nanR_bv_codes_df.csv\n",
            "bvbrc_code_dataframes/siaM_bv_codes_df.csv\n",
            "bvbrc_code_dataframes/ompC_bv_codes_df.csv\n",
            "bvbrc_code_dataframes/satC_bv_codes_df.csv\n",
            "bvbrc_code_dataframes/kpsS_bv_codes_df.csv\n",
            "bvbrc_code_dataframes/nanB_bv_codes_df.csv\n",
            "bvbrc_code_dataframes/nagA_bv_codes_df.csv\n",
            "bvbrc_code_dataframes/SIAE_bv_codes_df.csv\n",
            "bvbrc_code_dataframes/neuB_bv_codes_df.csv\n",
            "bvbrc_code_dataframes/ompF_bv_codes_df.csv\n",
            "bvbrc_code_dataframes/kpsM_bvbrc_codes_df.csv\n",
            "bvbrc_code_dataframes/nanE_bv_codes_df.csv\n",
            "bvbrc_code_dataframes/cpsK_bvbrc_codes_df.csv\n",
            "bvbrc_code_dataframes/lst_bv_codes_df.csv\n",
            "bvbrc_code_dataframes/neuC_bv_codes_df.csv\n",
            "bvbrc_code_dataframes/nagZ_bv_codes_df.csv\n",
            "bvbrc_code_dataframes/neuE_bv_codes_df.csv\n",
            "bvbrc_code_dataframes/nanA_bv_codes_df.csv\n",
            "bvbrc_code_dataframes/neuS_bv_codes_df.csv\n",
            "bvbrc_code_dataframes/siaT_bv_codes_df.csv\n",
            "bvbrc_code_dataframes/siaQ_bv_codes_df.csv\n",
            "bvbrc_code_dataframes/neuO_bv_codes_df.csv\n",
            "bvbrc_code_dataframes/kpsF_bv_codes_df.csv\n",
            "bvbrc_code_dataframes/lic3A_bv_codes_df.csv\n",
            "bvbrc_code_dataframes/nanU_bv_codes_df.csv\n",
            "bvbrc_code_dataframes/nanM_bv_codes_df.csv\n",
            "bvbrc_code_dataframes/nanK_bv_codes_df.csv\n",
            "bvbrc_code_dataframes/kpsE_bv_codes_df.csv\n"
          ]
        }
      ]
    },
    {
      "cell_type": "code",
      "source": [
        "# Download the compressed file for storage in the local repository"
      ],
      "metadata": {
        "id": "-dkA6T_Bb6eQ"
      },
      "execution_count": null,
      "outputs": []
    }
  ]
}
