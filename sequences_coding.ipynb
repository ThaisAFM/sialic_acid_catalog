{
  "cells": [
    {
      "cell_type": "markdown",
      "metadata": {
        "id": "JCyzvVYQRQEM"
      },
      "source": [
        "# Sequence coding\n",
        "\n",
        "This notebook will generate a dataframe that correlate the original identifiers of each sequence with new codes in the 'gene_X_database' format.\n",
        "\n",
        "The original sequence headers will then be replaced by the new codes.  "
      ]
    },
    {
      "cell_type": "code",
      "execution_count": null,
      "metadata": {
        "colab": {
          "base_uri": "https://localhost:8080/"
        },
        "id": "1AR1kpuVCxp7",
        "outputId": "a6c24d2e-c85d-454c-ac9b-6f4754fb0c50"
      },
      "outputs": [
        {
          "name": "stdout",
          "output_type": "stream",
          "text": [
            "Collecting biopython\n",
            "  Downloading biopython-1.85-cp311-cp311-manylinux_2_17_x86_64.manylinux2014_x86_64.whl.metadata (13 kB)\n",
            "Requirement already satisfied: numpy in /usr/local/lib/python3.11/dist-packages (from biopython) (1.26.4)\n",
            "Downloading biopython-1.85-cp311-cp311-manylinux_2_17_x86_64.manylinux2014_x86_64.whl (3.3 MB)\n",
            "\u001b[2K   \u001b[90m━━━━━━━━━━━━━━━━━━━━━━━━━━━━━━━━━━━━━━━━\u001b[0m \u001b[32m3.3/3.3 MB\u001b[0m \u001b[31m20.7 MB/s\u001b[0m eta \u001b[36m0:00:00\u001b[0m\n",
            "\u001b[?25hInstalling collected packages: biopython\n",
            "Successfully installed biopython-1.85\n"
          ]
        }
      ],
      "source": [
        "!pip install biopython"
      ]
    },
    {
      "cell_type": "code",
      "execution_count": null,
      "metadata": {
        "id": "5-HecjklhcjQ"
      },
      "outputs": [],
      "source": [
        "from google.colab import files\n",
        "import os\n",
        "import pandas as pd\n",
        "from Bio import SeqIO\n",
        "from Bio.SeqRecord import SeqRecord"
      ]
    },
    {
      "cell_type": "code",
      "execution_count": null,
      "metadata": {
        "id": "86F83-NkV-Ro"
      },
      "outputs": [],
      "source": [
        "# In the local repository, compress the folder of the database of interest with the respective sequences\n",
        "# tar czvf database_folder_name.tar.gz database_folder_name"
      ]
    },
    {
      "cell_type": "code",
      "execution_count": null,
      "metadata": {
        "colab": {
          "background_save": true,
          "base_uri": "https://localhost:8080/",
          "height": 56
        },
        "id": "hpESH9XAhd3h",
        "outputId": "accf07ec-990b-452f-f224-05405831bd2c"
      },
      "outputs": [
        {
          "data": {
            "text/html": [
              "\n",
              "     <input type=\"file\" id=\"files-1f98ae71-5b99-4d41-8d7d-45f7e98533ab\" name=\"files[]\" multiple disabled\n",
              "        style=\"border:none\" />\n",
              "     <output id=\"result-1f98ae71-5b99-4d41-8d7d-45f7e98533ab\">\n",
              "      Upload widget is only available when the cell has been executed in the\n",
              "      current browser session. Please rerun this cell to enable.\n",
              "      </output>\n",
              "      <script>// Copyright 2017 Google LLC\n",
              "//\n",
              "// Licensed under the Apache License, Version 2.0 (the \"License\");\n",
              "// you may not use this file except in compliance with the License.\n",
              "// You may obtain a copy of the License at\n",
              "//\n",
              "//      http://www.apache.org/licenses/LICENSE-2.0\n",
              "//\n",
              "// Unless required by applicable law or agreed to in writing, software\n",
              "// distributed under the License is distributed on an \"AS IS\" BASIS,\n",
              "// WITHOUT WARRANTIES OR CONDITIONS OF ANY KIND, either express or implied.\n",
              "// See the License for the specific language governing permissions and\n",
              "// limitations under the License.\n",
              "\n",
              "/**\n",
              " * @fileoverview Helpers for google.colab Python module.\n",
              " */\n",
              "(function(scope) {\n",
              "function span(text, styleAttributes = {}) {\n",
              "  const element = document.createElement('span');\n",
              "  element.textContent = text;\n",
              "  for (const key of Object.keys(styleAttributes)) {\n",
              "    element.style[key] = styleAttributes[key];\n",
              "  }\n",
              "  return element;\n",
              "}\n",
              "\n",
              "// Max number of bytes which will be uploaded at a time.\n",
              "const MAX_PAYLOAD_SIZE = 100 * 1024;\n",
              "\n",
              "function _uploadFiles(inputId, outputId) {\n",
              "  const steps = uploadFilesStep(inputId, outputId);\n",
              "  const outputElement = document.getElementById(outputId);\n",
              "  // Cache steps on the outputElement to make it available for the next call\n",
              "  // to uploadFilesContinue from Python.\n",
              "  outputElement.steps = steps;\n",
              "\n",
              "  return _uploadFilesContinue(outputId);\n",
              "}\n",
              "\n",
              "// This is roughly an async generator (not supported in the browser yet),\n",
              "// where there are multiple asynchronous steps and the Python side is going\n",
              "// to poll for completion of each step.\n",
              "// This uses a Promise to block the python side on completion of each step,\n",
              "// then passes the result of the previous step as the input to the next step.\n",
              "function _uploadFilesContinue(outputId) {\n",
              "  const outputElement = document.getElementById(outputId);\n",
              "  const steps = outputElement.steps;\n",
              "\n",
              "  const next = steps.next(outputElement.lastPromiseValue);\n",
              "  return Promise.resolve(next.value.promise).then((value) => {\n",
              "    // Cache the last promise value to make it available to the next\n",
              "    // step of the generator.\n",
              "    outputElement.lastPromiseValue = value;\n",
              "    return next.value.response;\n",
              "  });\n",
              "}\n",
              "\n",
              "/**\n",
              " * Generator function which is called between each async step of the upload\n",
              " * process.\n",
              " * @param {string} inputId Element ID of the input file picker element.\n",
              " * @param {string} outputId Element ID of the output display.\n",
              " * @return {!Iterable<!Object>} Iterable of next steps.\n",
              " */\n",
              "function* uploadFilesStep(inputId, outputId) {\n",
              "  const inputElement = document.getElementById(inputId);\n",
              "  inputElement.disabled = false;\n",
              "\n",
              "  const outputElement = document.getElementById(outputId);\n",
              "  outputElement.innerHTML = '';\n",
              "\n",
              "  const pickedPromise = new Promise((resolve) => {\n",
              "    inputElement.addEventListener('change', (e) => {\n",
              "      resolve(e.target.files);\n",
              "    });\n",
              "  });\n",
              "\n",
              "  const cancel = document.createElement('button');\n",
              "  inputElement.parentElement.appendChild(cancel);\n",
              "  cancel.textContent = 'Cancel upload';\n",
              "  const cancelPromise = new Promise((resolve) => {\n",
              "    cancel.onclick = () => {\n",
              "      resolve(null);\n",
              "    };\n",
              "  });\n",
              "\n",
              "  // Wait for the user to pick the files.\n",
              "  const files = yield {\n",
              "    promise: Promise.race([pickedPromise, cancelPromise]),\n",
              "    response: {\n",
              "      action: 'starting',\n",
              "    }\n",
              "  };\n",
              "\n",
              "  cancel.remove();\n",
              "\n",
              "  // Disable the input element since further picks are not allowed.\n",
              "  inputElement.disabled = true;\n",
              "\n",
              "  if (!files) {\n",
              "    return {\n",
              "      response: {\n",
              "        action: 'complete',\n",
              "      }\n",
              "    };\n",
              "  }\n",
              "\n",
              "  for (const file of files) {\n",
              "    const li = document.createElement('li');\n",
              "    li.append(span(file.name, {fontWeight: 'bold'}));\n",
              "    li.append(span(\n",
              "        `(${file.type || 'n/a'}) - ${file.size} bytes, ` +\n",
              "        `last modified: ${\n",
              "            file.lastModifiedDate ? file.lastModifiedDate.toLocaleDateString() :\n",
              "                                    'n/a'} - `));\n",
              "    const percent = span('0% done');\n",
              "    li.appendChild(percent);\n",
              "\n",
              "    outputElement.appendChild(li);\n",
              "\n",
              "    const fileDataPromise = new Promise((resolve) => {\n",
              "      const reader = new FileReader();\n",
              "      reader.onload = (e) => {\n",
              "        resolve(e.target.result);\n",
              "      };\n",
              "      reader.readAsArrayBuffer(file);\n",
              "    });\n",
              "    // Wait for the data to be ready.\n",
              "    let fileData = yield {\n",
              "      promise: fileDataPromise,\n",
              "      response: {\n",
              "        action: 'continue',\n",
              "      }\n",
              "    };\n",
              "\n",
              "    // Use a chunked sending to avoid message size limits. See b/62115660.\n",
              "    let position = 0;\n",
              "    do {\n",
              "      const length = Math.min(fileData.byteLength - position, MAX_PAYLOAD_SIZE);\n",
              "      const chunk = new Uint8Array(fileData, position, length);\n",
              "      position += length;\n",
              "\n",
              "      const base64 = btoa(String.fromCharCode.apply(null, chunk));\n",
              "      yield {\n",
              "        response: {\n",
              "          action: 'append',\n",
              "          file: file.name,\n",
              "          data: base64,\n",
              "        },\n",
              "      };\n",
              "\n",
              "      let percentDone = fileData.byteLength === 0 ?\n",
              "          100 :\n",
              "          Math.round((position / fileData.byteLength) * 100);\n",
              "      percent.textContent = `${percentDone}% done`;\n",
              "\n",
              "    } while (position < fileData.byteLength);\n",
              "  }\n",
              "\n",
              "  // All done.\n",
              "  yield {\n",
              "    response: {\n",
              "      action: 'complete',\n",
              "    }\n",
              "  };\n",
              "}\n",
              "\n",
              "scope.google = scope.google || {};\n",
              "scope.google.colab = scope.google.colab || {};\n",
              "scope.google.colab._files = {\n",
              "  _uploadFiles,\n",
              "  _uploadFilesContinue,\n",
              "};\n",
              "})(self);\n",
              "</script> "
            ],
            "text/plain": [
              "<IPython.core.display.HTML object>"
            ]
          },
          "metadata": {},
          "output_type": "display_data"
        },
        {
          "ename": "TypeError",
          "evalue": "'NoneType' object is not subscriptable",
          "output_type": "error",
          "traceback": [
            "\u001b[0;31m---------------------------------------------------------------------------\u001b[0m",
            "\u001b[0;31mTypeError\u001b[0m                                 Traceback (most recent call last)",
            "\u001b[0;32m<ipython-input-4-4b26bc65f7b4>\u001b[0m in \u001b[0;36m<cell line: 0>\u001b[0;34m()\u001b[0m\n\u001b[1;32m      1\u001b[0m \u001b[0;31m# Upload the compressed folder with the fasta sequences\u001b[0m\u001b[0;34m\u001b[0m\u001b[0;34m\u001b[0m\u001b[0m\n\u001b[1;32m      2\u001b[0m \u001b[0;34m\u001b[0m\u001b[0m\n\u001b[0;32m----> 3\u001b[0;31m \u001b[0muploaded\u001b[0m \u001b[0;34m=\u001b[0m \u001b[0mfiles\u001b[0m\u001b[0;34m.\u001b[0m\u001b[0mupload\u001b[0m\u001b[0;34m(\u001b[0m\u001b[0;34m)\u001b[0m\u001b[0;34m\u001b[0m\u001b[0;34m\u001b[0m\u001b[0m\n\u001b[0m",
            "\u001b[0;32m/usr/local/lib/python3.11/dist-packages/google/colab/files.py\u001b[0m in \u001b[0;36mupload\u001b[0;34m(target_dir)\u001b[0m\n\u001b[1;32m     70\u001b[0m   \"\"\"\n\u001b[1;32m     71\u001b[0m \u001b[0;34m\u001b[0m\u001b[0m\n\u001b[0;32m---> 72\u001b[0;31m   \u001b[0muploaded_files\u001b[0m \u001b[0;34m=\u001b[0m \u001b[0m_upload_files\u001b[0m\u001b[0;34m(\u001b[0m\u001b[0mmultiple\u001b[0m\u001b[0;34m=\u001b[0m\u001b[0;32mTrue\u001b[0m\u001b[0;34m)\u001b[0m\u001b[0;34m\u001b[0m\u001b[0;34m\u001b[0m\u001b[0m\n\u001b[0m\u001b[1;32m     73\u001b[0m   \u001b[0;31m# Mapping from original filename to filename as saved locally.\u001b[0m\u001b[0;34m\u001b[0m\u001b[0;34m\u001b[0m\u001b[0m\n\u001b[1;32m     74\u001b[0m   \u001b[0mlocal_filenames\u001b[0m \u001b[0;34m=\u001b[0m \u001b[0mdict\u001b[0m\u001b[0;34m(\u001b[0m\u001b[0;34m)\u001b[0m\u001b[0;34m\u001b[0m\u001b[0;34m\u001b[0m\u001b[0m\n",
            "\u001b[0;32m/usr/local/lib/python3.11/dist-packages/google/colab/files.py\u001b[0m in \u001b[0;36m_upload_files\u001b[0;34m(multiple)\u001b[0m\n\u001b[1;32m    175\u001b[0m         )\n\u001b[1;32m    176\u001b[0m     )\n\u001b[0;32m--> 177\u001b[0;31m     \u001b[0;32mif\u001b[0m \u001b[0mresult\u001b[0m\u001b[0;34m[\u001b[0m\u001b[0;34m'action'\u001b[0m\u001b[0;34m]\u001b[0m \u001b[0;34m!=\u001b[0m \u001b[0;34m'append'\u001b[0m\u001b[0;34m:\u001b[0m\u001b[0;34m\u001b[0m\u001b[0;34m\u001b[0m\u001b[0m\n\u001b[0m\u001b[1;32m    178\u001b[0m       \u001b[0;31m# JS side uses a generator of promises to process all of the files- some\u001b[0m\u001b[0;34m\u001b[0m\u001b[0;34m\u001b[0m\u001b[0m\n\u001b[1;32m    179\u001b[0m       \u001b[0;31m# steps may not produce data for the Python side, so just proceed onto the\u001b[0m\u001b[0;34m\u001b[0m\u001b[0;34m\u001b[0m\u001b[0m\n",
            "\u001b[0;31mTypeError\u001b[0m: 'NoneType' object is not subscriptable"
          ]
        }
      ],
      "source": [
        "# Upload the compressed folder with the fasta sequences\n",
        "\n",
        "uploaded = files.upload()"
      ]
    },
    {
      "cell_type": "code",
      "execution_count": null,
      "metadata": {
        "colab": {
          "base_uri": "https://localhost:8080/"
        },
        "id": "Z51ZMhLHcwNJ",
        "outputId": "e254a4df-2f1b-46dc-9cf8-718cfc016288"
      },
      "outputs": [
        {
          "name": "stdout",
          "output_type": "stream",
          "text": [
            "dbcan/\n",
            "dbcan/kpsE_dbcan.fasta\n",
            "dbcan/_nanE_dbcan.fasta\n",
            "dbcan/kpsM_dbcan.fasta\n",
            "dbcan/SIAE_dbcan.fasta\n",
            "dbcan/nanE_dbcan.fasta\n",
            "dbcan/nanQ_dbcan.fasta\n",
            "dbcan/kpsF_dbcan.fasta\n",
            "dbcan/neuS_dbcan.fasta\n",
            "dbcan/nanT_dbcan.fasta\n",
            "dbcan/kpsT_dbcan.fasta\n",
            "dbcan/kpsD_dbcan.fasta\n",
            "dbcan/neuD_dbcan.fasta\n",
            "dbcan/kpsC_dbcan.fasta\n",
            "dbcan/neuC_dbcan.fasta\n",
            "dbcan/nanR_dbcan.fasta\n",
            "dbcan/nagZ_dbcan.fasta\n",
            "dbcan/nanA_dbcan.fasta\n",
            "dbcan/nanO_dbcan.fasta\n",
            "dbcan/nanM_dbcan.fasta\n",
            "dbcan/neuE_dbcan.fasta\n",
            "dbcan/neuB_dbcan.fasta\n",
            "dbcan/nanU_dbcan.fasta\n",
            "dbcan/kpsS_dbcan.fasta\n",
            "dbcan/nanK_dbcan.fasta\n",
            "dbcan/neuA_dbcan.fasta\n",
            "dbcan/kpsU_dbcan.fasta\n"
          ]
        }
      ],
      "source": [
        "# Unzip folder\n",
        "\n",
        "!tar -xvzf database_folder_name.tar.gz"
      ]
    },
    {
      "cell_type": "markdown",
      "metadata": {
        "id": "h0r2xcveWJOd"
      },
      "source": [
        "1. Generating the dataframe with new codes"
      ]
    },
    {
      "cell_type": "code",
      "execution_count": null,
      "metadata": {
        "id": "BdjqSI0HhgDg"
      },
      "outputs": [],
      "source": [
        "def sequence_coding(fasta_file, input_filename):\n",
        "    \"\"\"\n",
        "    Process a FASTA file to generate a DataFrame containing headers and internal gene codes.\n",
        "\n",
        "    Args:\n",
        "        fasta_file (str): Path to the input FASTA file.\n",
        "        input_filename (str): Name of the input file (used for generating codes).\n",
        "\n",
        "    Returns:\n",
        "        None: Saves the resulting DataFrame to a CSV file.\n",
        "    \"\"\"\n",
        "\n",
        "    # List to store the headers\n",
        "    headers = []\n",
        "\n",
        "    # Read the FASTA file and extract the headers\n",
        "    for record in SeqIO.parse(fasta_file, \"fasta\"):\n",
        "        headers.append(record.id)\n",
        "\n",
        "    # Create a DataFrame with the headers\n",
        "    df = pd.DataFrame(headers, columns=['Header'])\n",
        "\n",
        "    # Add a column with gene codes in the format gene_X_UNIP\n",
        "    df['Gene_Code'] = [\n",
        "        f\"{input_filename.split('_')[0]}_\" + str(i + 1) + f\"_{input_filename.split('_')[1].replace('.fasta', '')}\"\n",
        "        for i in range(len(headers))\n",
        "    ]\n",
        "\n",
        "    # Save the DataFrame to a CSV file with the input filename in the output name\n",
        "    output_filename = f\"{input_filename.split('.')[0]}_codes_df.csv\"\n",
        "    df.to_csv(output_filename, index=False)"
      ]
    },
    {
      "cell_type": "code",
      "execution_count": null,
      "metadata": {
        "id": "D3JUzlh5jAXR"
      },
      "outputs": [],
      "source": [
        "# Applying the function to all fasta files in the directory of interest\n",
        "\n",
        "# Directory where the files are located\n",
        "directory = 'database_folder_name'  # Adapt according to the directory name\n",
        "\n",
        "# List all files in the directory\n",
        "files = os.listdir(directory)\n",
        "\n",
        "# Filter the list to include only FASTA files\n",
        "fasta_files = [f for f in files if f.endswith('.fasta')]\n",
        "\n",
        "# Iterate over the FASTA files\n",
        "for fasta_file in fasta_files:\n",
        "    full_path = os.path.join(directory, fasta_file)\n",
        "    sequence_coding(full_path, fasta_file)"
      ]
    },
    {
      "cell_type": "code",
      "execution_count": null,
      "metadata": {
        "id": "1NEQHg0jY8pm"
      },
      "outputs": [],
      "source": [
        "# Organizing files into a folder\n",
        "\n",
        "!mkdir database_code_dataframes\n",
        "!mv *.csv database_code_dataframes/"
      ]
    },
    {
      "cell_type": "code",
      "execution_count": null,
      "metadata": {
        "id": "iQZCENjEYTHt"
      },
      "outputs": [],
      "source": [
        "# Concatenating the dataframes\n",
        "\n",
        "csv_files = [file for file in os.listdir('database_code_dataframes') if file.endswith('.csv')]\n",
        "\n",
        "dataframes = []\n",
        "\n",
        "for file in csv_files:\n",
        "  file_path = os.path.join('database_code_dataframes', file)\n",
        "  df = pd.read_csv(file_path)\n",
        "  dataframes.append(df)\n",
        "\n",
        "refseq_merged_df = pd.concat(dataframes, ignore_index=True)\n",
        "\n",
        "# Saving the dataframe\n",
        "refseq_merged_df.to_csv('database_merged_df.csv', index=False)"
      ]
    },
    {
      "cell_type": "code",
      "execution_count": null,
      "metadata": {
        "colab": {
          "base_uri": "https://localhost:8080/"
        },
        "id": "jF0_WXusbTfQ",
        "outputId": "bded03c6-5879-40f2-c1e0-f6bf1c7c2015"
      },
      "outputs": [
        {
          "name": "stdout",
          "output_type": "stream",
          "text": [
            "dbcan_code_dataframes/\n",
            "dbcan_code_dataframes/kpsT_dbcan_codes_df.csv\n",
            "dbcan_code_dataframes/nanR_dbcan_codes_df.csv\n",
            "dbcan_code_dataframes/dbcan_merged_df.csv\n",
            "dbcan_code_dataframes/neuD_dbcan_codes_df.csv\n",
            "dbcan_code_dataframes/SIAE_dbcan_codes_df.csv\n",
            "dbcan_code_dataframes/neuA_dbcan_codes_df.csv\n",
            "dbcan_code_dataframes/nanQ_dbcan_codes_df.csv\n",
            "dbcan_code_dataframes/kpsC_dbcan_codes_df.csv\n",
            "dbcan_code_dataframes/neuE_dbcan_codes_df.csv\n",
            "dbcan_code_dataframes/nagZ_dbcan_codes_df.csv\n",
            "dbcan_code_dataframes/nanO_dbcan_codes_df.csv\n",
            "dbcan_code_dataframes/neuC_dbcan_codes_df.csv\n",
            "dbcan_code_dataframes/nanU_dbcan_codes_df.csv\n",
            "dbcan_code_dataframes/kpsF_dbcan_codes_df.csv\n",
            "dbcan_code_dataframes/nanA_dbcan_codes_df.csv\n",
            "dbcan_code_dataframes/nanT_dbcan_codes_df.csv\n",
            "dbcan_code_dataframes/neuB_dbcan_codes_df.csv\n",
            "dbcan_code_dataframes/nanE_dbcan_codes_df.csv\n",
            "dbcan_code_dataframes/kpsS_dbcan_codes_df.csv\n",
            "dbcan_code_dataframes/neuS_dbcan_codes_df.csv\n",
            "dbcan_code_dataframes/kpsU_dbcan_codes_df.csv\n",
            "dbcan_code_dataframes/nanK_dbcan_codes_df.csv\n",
            "dbcan_code_dataframes/kpsD_dbcan_codes_df.csv\n",
            "dbcan_code_dataframes/nanM_dbcan_codes_df.csv\n",
            "dbcan_code_dataframes/_nanE_dbcan_codes_df.csv\n",
            "dbcan_code_dataframes/kpsM_dbcan_codes_df.csv\n",
            "dbcan_code_dataframes/kpsE_dbcan_codes_df.csv\n"
          ]
        }
      ],
      "source": [
        "# Organizing and compressing files\n",
        "\n",
        "!mv database_merged_df.csv database_code_dataframes/\n",
        "!tar -czvf database_code_dataframes.tar.gz database_code_dataframes/"
      ]
    },
    {
      "cell_type": "code",
      "execution_count": null,
      "metadata": {
        "id": "-dkA6T_Bb6eQ"
      },
      "outputs": [],
      "source": [
        "# Download the compressed file for storage in the local repository"
      ]
    },
    {
      "cell_type": "markdown",
      "metadata": {
        "id": "p69PqhBZF1QW"
      },
      "source": [
        "### Renaming headers"
      ]
    },
    {
      "cell_type": "code",
      "execution_count": null,
      "metadata": {
        "id": "js3R-_E9DXvO"
      },
      "outputs": [],
      "source": [
        "# Define the dataframe that relates original code - internal code\n",
        "df = pd.read_csv('database_code_dataframes/database_merged_df.csv')"
      ]
    },
    {
      "cell_type": "code",
      "execution_count": null,
      "metadata": {
        "id": "hsPNlFtrJBKe"
      },
      "outputs": [],
      "source": [
        "# Create output directory\n",
        "\n",
        "!mkdir database_coded"
      ]
    },
    {
      "cell_type": "code",
      "execution_count": null,
      "metadata": {
        "colab": {
          "base_uri": "https://localhost:8080/"
        },
        "id": "naDEw1f8KJQf",
        "outputId": "b576d850-baa2-40de-eaf8-55c074f030da"
      },
      "outputs": [
        {
          "name": "stdout",
          "output_type": "stream",
          "text": [
            "dbcan  dbcan_coded  dbcan_code_dataframes  dbcan_code_dataframes.tar.gz  dbcan.tar.gz  sample_data\n"
          ]
        }
      ],
      "source": [
        "!ls"
      ]
    },
    {
      "cell_type": "code",
      "execution_count": null,
      "metadata": {
        "id": "oiEKvJqbJMnF"
      },
      "outputs": [],
      "source": [
        "input_dir = 'database'\n",
        "output_dir = 'database_coded'"
      ]
    },
    {
      "cell_type": "code",
      "execution_count": null,
      "metadata": {
        "colab": {
          "base_uri": "https://localhost:8080/"
        },
        "id": "KyzJM4DtJ0SG",
        "outputId": "e2ce383c-dec0-49cd-91c5-26ad346053cd"
      },
      "outputs": [
        {
          "name": "stdout",
          "output_type": "stream",
          "text": [
            "File processed: neuB_dbcan.fasta -> neuB_dbcan_coded.fasta\n",
            "File processed: neuA_dbcan.fasta -> neuA_dbcan_coded.fasta\n",
            "File processed: neuS_dbcan.fasta -> neuS_dbcan_coded.fasta\n",
            "File processed: nanO_dbcan.fasta -> nanO_dbcan_coded.fasta\n",
            "File processed: kpsF_dbcan.fasta -> kpsF_dbcan_coded.fasta\n",
            "File processed: kpsT_dbcan.fasta -> kpsT_dbcan_coded.fasta\n",
            "File processed: SIAE_dbcan.fasta -> SIAE_dbcan_coded.fasta\n",
            "File processed: kpsD_dbcan.fasta -> kpsD_dbcan_coded.fasta\n",
            "File processed: nanK_dbcan.fasta -> nanK_dbcan_coded.fasta\n",
            "File processed: nanA_dbcan.fasta -> nanA_dbcan_coded.fasta\n",
            "File processed: kpsU_dbcan.fasta -> kpsU_dbcan_coded.fasta\n",
            "File processed: neuC_dbcan.fasta -> neuC_dbcan_coded.fasta\n",
            "File processed: neuE_dbcan.fasta -> neuE_dbcan_coded.fasta\n",
            "File processed: kpsC_dbcan.fasta -> kpsC_dbcan_coded.fasta\n",
            "File processed: kpsM_dbcan.fasta -> kpsM_dbcan_coded.fasta\n",
            "File processed: nanU_dbcan.fasta -> nanU_dbcan_coded.fasta\n",
            "File processed: nagZ_dbcan.fasta -> nagZ_dbcan_coded.fasta\n",
            "File processed: neuD_dbcan.fasta -> neuD_dbcan_coded.fasta\n",
            "File processed: kpsE_dbcan.fasta -> kpsE_dbcan_coded.fasta\n",
            "File processed: nanM_dbcan.fasta -> nanM_dbcan_coded.fasta\n",
            "File processed: nanT_dbcan.fasta -> nanT_dbcan_coded.fasta\n",
            "File processed: nanQ_dbcan.fasta -> nanQ_dbcan_coded.fasta\n",
            "File processed: nanE_dbcan.fasta -> nanE_dbcan_coded.fasta\n",
            "File processed: nanR_dbcan.fasta -> nanR_dbcan_coded.fasta\n",
            "File processed: _nanE_dbcan.fasta -> _nanE_dbcan_coded.fasta\n",
            "File processed: kpsS_dbcan.fasta -> kpsS_dbcan_coded.fasta\n"
          ]
        }
      ],
      "source": [
        "# List all FASTA files in the input directory\n",
        "fasta_files = [f for f in os.listdir(input_dir) if f.endswith('.fasta')]\n",
        "\n",
        "# Loop to process each FASTA file\n",
        "for fasta_file in fasta_files:\n",
        "    # Full path to the input file\n",
        "    input_path = os.path.join(input_dir, fasta_file)\n",
        "\n",
        "    # Read the sequences from the FASTA file\n",
        "    records = list(SeqIO.parse(input_path, 'fasta'))\n",
        "\n",
        "    # List to store the updated sequences\n",
        "    new_records = []\n",
        "\n",
        "    # Replace headers\n",
        "    for record in records:\n",
        "        if record.id in df['Header'].values:\n",
        "            # Get the corresponding new code\n",
        "            new_code = df.loc[df['Header'] == record.id, 'Gene_Code'].values[0]\n",
        "\n",
        "            # Create a new sequence with the updated header\n",
        "            new_record = SeqRecord(record.seq, id=new_code, description='')\n",
        "            new_records.append(new_record)\n",
        "        else:\n",
        "            # Keep the original sequence if the header is not in the DataFrame\n",
        "            new_records.append(record)\n",
        "\n",
        "    # Output file name (adds the _coded suffix)\n",
        "    output_file = fasta_file.replace('.fasta', '_coded.fasta')\n",
        "    output_path = os.path.join(output_dir, output_file)\n",
        "\n",
        "    # Save the updated sequences to the output file\n",
        "    SeqIO.write(new_records, output_path, 'fasta')\n",
        "\n",
        "    print(f\"File processed: {fasta_file} -> {output_file}\")"
      ]
    },
    {
      "cell_type": "code",
      "execution_count": null,
      "metadata": {
        "colab": {
          "base_uri": "https://localhost:8080/"
        },
        "id": "PjVnqD2AMtyY",
        "outputId": "897f445f-ec19-4354-da90-51eb58054b71"
      },
      "outputs": [
        {
          "name": "stdout",
          "output_type": "stream",
          "text": [
            "dbcan_coded/\n",
            "dbcan_coded/nanR_dbcan_coded.fasta\n",
            "dbcan_coded/nanQ_dbcan_coded.fasta\n",
            "dbcan_coded/nanM_dbcan_coded.fasta\n",
            "dbcan_coded/neuA_dbcan_coded.fasta\n",
            "dbcan_coded/nanT_dbcan_coded.fasta\n",
            "dbcan_coded/neuD_dbcan_coded.fasta\n",
            "dbcan_coded/kpsM_dbcan_coded.fasta\n",
            "dbcan_coded/kpsE_dbcan_coded.fasta\n",
            "dbcan_coded/neuB_dbcan_coded.fasta\n",
            "dbcan_coded/neuS_dbcan_coded.fasta\n",
            "dbcan_coded/nanO_dbcan_coded.fasta\n",
            "dbcan_coded/kpsD_dbcan_coded.fasta\n",
            "dbcan_coded/SIAE_dbcan_coded.fasta\n",
            "dbcan_coded/kpsT_dbcan_coded.fasta\n",
            "dbcan_coded/nanE_dbcan_coded.fasta\n",
            "dbcan_coded/nanU_dbcan_coded.fasta\n",
            "dbcan_coded/_nanE_dbcan_coded.fasta\n",
            "dbcan_coded/kpsF_dbcan_coded.fasta\n",
            "dbcan_coded/neuC_dbcan_coded.fasta\n",
            "dbcan_coded/neuE_dbcan_coded.fasta\n",
            "dbcan_coded/nanK_dbcan_coded.fasta\n",
            "dbcan_coded/kpsS_dbcan_coded.fasta\n",
            "dbcan_coded/kpsC_dbcan_coded.fasta\n",
            "dbcan_coded/nagZ_dbcan_coded.fasta\n",
            "dbcan_coded/nanA_dbcan_coded.fasta\n",
            "dbcan_coded/kpsU_dbcan_coded.fasta\n"
          ]
        }
      ],
      "source": [
        "# Compressing the output directory\n",
        "\n",
        "!tar -czvf database_coded.tar.gz database_coded/"
      ]
    },
    {
      "cell_type": "code",
      "execution_count": null,
      "metadata": {
        "id": "GW860ZN1OrQL"
      },
      "outputs": [],
      "source": [
        "# Download the compressed file for storage in the local repository"
      ]
    }
  ],
  "metadata": {
    "colab": {
      "provenance": []
    },
    "kernelspec": {
      "display_name": "Python 3",
      "name": "python3"
    },
    "language_info": {
      "name": "python"
    }
  },
  "nbformat": 4,
  "nbformat_minor": 0
}