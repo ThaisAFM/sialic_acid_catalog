{
  "nbformat": 4,
  "nbformat_minor": 0,
  "metadata": {
    "colab": {
      "provenance": []
    },
    "kernelspec": {
      "name": "python3",
      "display_name": "Python 3"
    },
    "language_info": {
      "name": "python"
    }
  },
  "cells": [
    {
      "cell_type": "markdown",
      "source": [
        "## Use of KEGG API to retrieve protein sequences\n",
        "\n",
        "The API is built with Python\n",
        "\n",
        "Submit the job with the sbatch command\n",
        "\n",
        "You can loop through a list of genes, but there's a risk of reaching the KEGG’s request limit"
      ],
      "metadata": {
        "id": "opocV-sVRGzl"
      }
    },
    {
      "cell_type": "code",
      "execution_count": null,
      "metadata": {
        "id": "T500Sl70Qvd3"
      },
      "outputs": [],
      "source": [
        "#!/bin/bash\n",
        "#SBATCH --job-name=job_name\n",
        "#SBATCH --partition=SP2\n",
        "#SBATCH --ntasks=1\n",
        "#SBATCH --cpus-per-task=20\n",
        "#SBATCH --time=24:00:00\n",
        "#SBATCH --mem-per-cpu=24042\n",
        "#SBATCH --mail-type=BEGING,END\n",
        "#SBATCH --mail-user= e-mail\n",
        "\n",
        "module load Miniconda/3\n",
        "\n",
        "python - <<EOF\n",
        "\n",
        "import requests # This line of code makes the requests library available for use\n",
        "                # within the current Python script or notebook.\n",
        "\n",
        "\"\"\"### Bacterial codes\n",
        "\n",
        "In this section, the KEGG API list operation is used to collect all codes refering to bacterial organisms avaiable on KEGG.\n",
        "\"\"\"\n",
        "\n",
        "# Extracting a list of all organisms avaiable on KEGG\n",
        "\n",
        "url_list_org = f'https://rest.kegg.jp/list/organism' # List of all organisms in KEGG\n",
        "orgs = requests.get(url_list_org) # Make the GET request\n",
        "org_list = orgs.text.splitlines() # chops the text block into individual lines and stores those lines in a list\n",
        "\n",
        "# Filtering all bacterial organisms in KEGG\n",
        "bacteria_list = [item for item in org_list if 'bacteria' in item.lower()]\n",
        "print(bacteria_list)\n",
        "\n",
        "# Extracting the codes for the bacterial organisms\n",
        "bacterial_codes = [item.split('\\t')[1] for item in bacteria_list]\n",
        "print(bacterial_codes)\n",
        "\n",
        "\"\"\"### Amino acid sequences\n",
        "\n",
        "In this section, the KEGG API get operation is used to collect the amino acid sequences for a specific gene across all bacterial organ$\n",
        "\"\"\"\n",
        "# ACCORDING TO KEGG API, CODE MUST HAVE THE FOLLOWING FORMAT:\n",
        "# http://rest.kegg.jp/get/<org>:<gene>/aaseq\n",
        "\n",
        "# The following code iterates through a list of organisms, fetches protein sequence data for a specific gene from\n",
        "# the KEGG database using their API, and saves the retrieved data to a file if the request is successful.\n",
        "# If there is an error, it prints the error status code.\n",
        "\n",
        "def get_aaseq(gene):\n",
        "  for code in bacterial_codes:\n",
        "    url = f\"http://rest.kegg.jp/get/{code}:{gene}/aaseq\"\n",
        "    response = requests.get(url)\n",
        "\n",
        "    if response.status_code == 200:\n",
        "      response = response.text\n",
        "      with open(f'kegg_{gene}.txt', 'a') as f:\n",
        "          f.write(response)\n",
        "    else:\n",
        "      print(response.status_code)\n",
        "\n",
        "# Applying the function\n",
        "\n",
        "get_aaseq('<your_gene>')\n",
        "\n",
        "EOF"
      ]
    }
  ]
}